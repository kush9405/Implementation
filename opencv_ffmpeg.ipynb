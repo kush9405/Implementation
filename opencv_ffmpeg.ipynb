{
  "nbformat": 4,
  "nbformat_minor": 0,
  "metadata": {
    "colab": {
      "provenance": []
    },
    "kernelspec": {
      "name": "python3",
      "display_name": "Python 3"
    },
    "language_info": {
      "name": "python"
    }
  },
  "cells": [
    {
      "cell_type": "code",
      "source": [
        "from google.colab import drive\n",
        "drive.mount('/content/drive')"
      ],
      "metadata": {
        "colab": {
          "base_uri": "https://localhost:8080/"
        },
        "id": "-aO1ufhp2CR2",
        "outputId": "d68a67bc-d32d-43df-fcf6-ac86fedf5d72"
      },
      "execution_count": null,
      "outputs": [
        {
          "output_type": "stream",
          "name": "stdout",
          "text": [
            "Drive already mounted at /content/drive; to attempt to forcibly remount, call drive.mount(\"/content/drive\", force_remount=True).\n"
          ]
        }
      ]
    },
    {
      "cell_type": "code",
      "source": [
        "!apt-get update\n",
        "!apt-get install -y cmake build-essential pkg-config libgtk2.0-dev libavcodec-dev libavformat-dev libswscale-dev libtbb2 libtbb-dev libjpeg-dev libpng-dev libtiff-dev libdc1394-22-dev"
      ],
      "metadata": {
        "id": "yiX1YoxB4VNZ",
        "colab": {
          "base_uri": "https://localhost:8080/"
        },
        "outputId": "1403afbc-f513-43c2-8afe-151ddef9eed1"
      },
      "execution_count": null,
      "outputs": [
        {
          "output_type": "stream",
          "name": "stdout",
          "text": [
            "\r0% [Working]\r            \rGet:1 https://cloud.r-project.org/bin/linux/ubuntu jammy-cran40/ InRelease [3,632 B]\n",
            "Get:2 https://developer.download.nvidia.com/compute/cuda/repos/ubuntu2204/x86_64  InRelease [1,581 B]\n",
            "Hit:3 http://archive.ubuntu.com/ubuntu jammy InRelease\n",
            "Get:4 http://archive.ubuntu.com/ubuntu jammy-updates InRelease [128 kB]\n",
            "Get:5 http://security.ubuntu.com/ubuntu jammy-security InRelease [129 kB]\n",
            "Hit:6 https://ppa.launchpadcontent.net/deadsnakes/ppa/ubuntu jammy InRelease\n",
            "Get:7 https://r2u.stat.illinois.edu/ubuntu jammy InRelease [6,555 B]\n",
            "Hit:8 https://ppa.launchpadcontent.net/graphics-drivers/ppa/ubuntu jammy InRelease\n",
            "Get:9 http://archive.ubuntu.com/ubuntu jammy-backports InRelease [127 kB]\n",
            "Hit:10 https://ppa.launchpadcontent.net/ubuntugis/ppa/ubuntu jammy InRelease\n",
            "Get:11 https://r2u.stat.illinois.edu/ubuntu jammy/main all Packages [8,767 kB]\n",
            "Get:12 https://developer.download.nvidia.com/compute/cuda/repos/ubuntu2204/x86_64  Packages [1,380 kB]\n",
            "Get:13 http://archive.ubuntu.com/ubuntu jammy-updates/universe amd64 Packages [1,536 kB]\n",
            "Get:14 http://security.ubuntu.com/ubuntu jammy-security/main amd64 Packages [2,698 kB]\n",
            "Get:15 http://archive.ubuntu.com/ubuntu jammy-updates/main amd64 Packages [3,037 kB]\n",
            "Get:16 http://archive.ubuntu.com/ubuntu jammy-updates/restricted amd64 Packages [4,028 kB]\n",
            "Get:17 http://archive.ubuntu.com/ubuntu jammy-updates/multiverse amd64 Packages [55.7 kB]\n",
            "Get:18 http://archive.ubuntu.com/ubuntu jammy-backports/main amd64 Packages [82.7 kB]\n",
            "Get:19 http://archive.ubuntu.com/ubuntu jammy-backports/universe amd64 Packages [36.7 kB]\n",
            "Get:20 http://security.ubuntu.com/ubuntu jammy-security/universe amd64 Packages [1,237 kB]\n",
            "Get:21 http://security.ubuntu.com/ubuntu jammy-security/multiverse amd64 Packages [47.7 kB]\n",
            "Get:22 http://security.ubuntu.com/ubuntu jammy-security/restricted amd64 Packages [3,813 kB]\n",
            "Get:23 https://r2u.stat.illinois.edu/ubuntu jammy/main amd64 Packages [2,679 kB]\n",
            "Fetched 29.8 MB in 4s (6,901 kB/s)\n",
            "Reading package lists... Done\n",
            "W: Skipping acquire of configured file 'main/source/Sources' as repository 'https://r2u.stat.illinois.edu/ubuntu jammy InRelease' does not seem to provide it (sources.list entry misspelt?)\n",
            "Reading package lists... Done\n",
            "Building dependency tree... Done\n",
            "Reading state information... Done\n",
            "E: Unable to locate package libdc1394-22-dev\n"
          ]
        }
      ]
    },
    {
      "cell_type": "code",
      "source": [
        "!ls /usr/local/cuda"
      ],
      "metadata": {
        "colab": {
          "base_uri": "https://localhost:8080/"
        },
        "id": "cbxaloDQ67XY",
        "outputId": "b47cf637-e209-432b-ad76-28d2ed6b82e3"
      },
      "execution_count": null,
      "outputs": [
        {
          "output_type": "stream",
          "name": "stdout",
          "text": [
            "bin  compat  compute-sanitizer\tdoc  extras  gds  include  lib64  nvml\tnvvm  share  src  targets\n"
          ]
        }
      ]
    },
    {
      "cell_type": "code",
      "source": [
        "!wget https://developer.download.nvidia.com/compute/cuda/11.1.1/local_installers/cuda_11.1.1_455.32.00_linux.run\n",
        "!chmod +x cuda_11.1.1_455.32.00_linux.run\n",
        "!./cuda_11.1.1_455.32.00_linux.run --silent --toolkit --toolkitpath=/usr/local/cuda-11.1"
      ],
      "metadata": {
        "colab": {
          "base_uri": "https://localhost:8080/"
        },
        "id": "UuF1A9Jh691Z",
        "outputId": "e7b99a25-4080-4616-ae7c-afc1965cc810"
      },
      "execution_count": null,
      "outputs": [
        {
          "output_type": "stream",
          "name": "stdout",
          "text": [
            "--2025-03-25 10:49:25--  https://developer.download.nvidia.com/compute/cuda/11.1.1/local_installers/cuda_11.1.1_455.32.00_linux.run\n",
            "Resolving developer.download.nvidia.com (developer.download.nvidia.com)... 23.213.43.221, 23.213.43.207\n",
            "Connecting to developer.download.nvidia.com (developer.download.nvidia.com)|23.213.43.221|:443... connected.\n",
            "HTTP request sent, awaiting response... 200 OK\n",
            "Length: 3532172082 (3.3G) [application/octet-stream]\n",
            "Saving to: ‘cuda_11.1.1_455.32.00_linux.run’\n",
            "\n",
            "cuda_11.1.1_455.32. 100%[===================>]   3.29G   125MB/s    in 41s     \n",
            "\n",
            "2025-03-25 10:50:06 (82.8 MB/s) - ‘cuda_11.1.1_455.32.00_linux.run’ saved [3532172082/3532172082]\n",
            "\n",
            " Failed to verify gcc version. See log at /var/log/cuda-installer.log for details.\n"
          ]
        }
      ]
    },
    {
      "cell_type": "code",
      "source": [
        "!git clone https://github.com/opencv/opencv.git\n",
        "!git clone https://github.com/opencv/opencv_contrib.git\n",
        "%cd opencv\n",
        "!git checkout 4.8.0 # you may need to change this to the current version\n",
        "%cd ../opencv_contrib\n",
        "!git checkout 4.8.0 # Make sure that both opencv and opencv_contrib use the same version\n",
        "%cd .."
      ],
      "metadata": {
        "colab": {
          "base_uri": "https://localhost:8080/"
        },
        "id": "4Rq_WAFN7JMC",
        "outputId": "016400df-ca95-4a91-a739-ca41b0ad1942"
      },
      "execution_count": null,
      "outputs": [
        {
          "output_type": "stream",
          "name": "stdout",
          "text": [
            "Cloning into 'opencv'...\n",
            "remote: Enumerating objects: 343140, done.\u001b[K\n",
            "remote: Counting objects: 100% (182/182), done.\u001b[K\n",
            "remote: Compressing objects: 100% (134/134), done.\u001b[K\n",
            "remote: Total 343140 (delta 104), reused 56 (delta 48), pack-reused 342958 (from 3)\u001b[K\n",
            "Receiving objects: 100% (343140/343140), 531.98 MiB | 17.34 MiB/s, done.\n",
            "Resolving deltas: 100% (239437/239437), done.\n",
            "Updating files: 100% (7609/7609), done.\n",
            "Cloning into 'opencv_contrib'...\n",
            "remote: Enumerating objects: 43285, done.\u001b[K\n",
            "remote: Counting objects: 100% (4073/4073), done.\u001b[K\n",
            "remote: Compressing objects: 100% (1443/1443), done.\u001b[K\n",
            "remote: Total 43285 (delta 2989), reused 2630 (delta 2630), pack-reused 39212 (from 3)\u001b[K\n",
            "Receiving objects: 100% (43285/43285), 152.24 MiB | 14.46 MiB/s, done.\n",
            "Resolving deltas: 100% (26675/26675), done.\n",
            "/content/opencv\n",
            "Note: switching to '4.8.0'.\n",
            "\n",
            "You are in 'detached HEAD' state. You can look around, make experimental\n",
            "changes and commit them, and you can discard any commits you make in this\n",
            "state without impacting any branches by switching back to a branch.\n",
            "\n",
            "If you want to create a new branch to retain commits you create, you may\n",
            "do so (now or later) by using -c with the switch command. Example:\n",
            "\n",
            "  git switch -c <new-branch-name>\n",
            "\n",
            "Or undo this operation with:\n",
            "\n",
            "  git switch -\n",
            "\n",
            "Turn off this advice by setting config variable advice.detachedHead to false\n",
            "\n",
            "HEAD is now at f9a59f2592 Release OpenCV 4.8.0\n",
            "/content/opencv_contrib\n",
            "Note: switching to '4.8.0'.\n",
            "\n",
            "You are in 'detached HEAD' state. You can look around, make experimental\n",
            "changes and commit them, and you can discard any commits you make in this\n",
            "state without impacting any branches by switching back to a branch.\n",
            "\n",
            "If you want to create a new branch to retain commits you create, you may\n",
            "do so (now or later) by using -c with the switch command. Example:\n",
            "\n",
            "  git switch -c <new-branch-name>\n",
            "\n",
            "Or undo this operation with:\n",
            "\n",
            "  git switch -\n",
            "\n",
            "Turn off this advice by setting config variable advice.detachedHead to false\n",
            "\n",
            "HEAD is now at f10c84d4 Merge pull request #3515 from asmorkalov:as/find_ellipses_memory\n",
            "/content\n"
          ]
        }
      ]
    },
    {
      "cell_type": "code",
      "source": [
        "!mkdir build\n",
        "%cd build\n",
        "\n",
        "!cmake -D CMAKE_BUILD_TYPE=Release \\\n",
        "      -D CMAKE_INSTALL_PREFIX=/usr/local \\\n",
        "      -D WITH_CUDA=ON \\\n",
        "      -D CUDA_ARCH_BIN=\"T4=7.5\" \\\n",
        "      -D CUDA_ARCH_PTX=\"\" \\\n",
        "      -D WITH_CUDNN=ON \\\n",
        "      -D OPENCV_DNN_CUDA=ON \\\n",
        "      -D ENABLE_FAST_MATH=1 \\\n",
        "      -D CUDA_FAST_MATH=1 \\\n",
        "      -D WITH_TBB=ON \\\n",
        "      -D BUILD_opencv_python3=ON \\\n",
        "      -D OPENCV_GENERATE_PKGCONFIG=ON \\\n",
        "      -D BUILD_EXAMPLES=OFF \\\n",
        "      -D OPENCV_EXTRA_MODULES_PATH=../opencv_contrib/modules \\\n",
        "      -D CUDA_TOOLKIT_ROOT_DIR=/usr/local/cuda \\\n",
        "      .."
      ],
      "metadata": {
        "colab": {
          "base_uri": "https://localhost:8080/"
        },
        "id": "WhwB8YIK7zc5",
        "outputId": "d937688a-cf27-4af5-d693-70e8447ba1d6"
      },
      "execution_count": null,
      "outputs": [
        {
          "output_type": "stream",
          "name": "stdout",
          "text": [
            "/content/build\n",
            "\u001b[33mCMake Warning:\n",
            "  Ignoring extra path from command line:\n",
            "\n",
            "   \"..\"\n",
            "\n",
            "\u001b[0m\n",
            "\u001b[0mCMake Error: The source directory \"/content\" does not appear to contain CMakeLists.txt.\n",
            "Specify --help for usage, or press the help button on the CMake GUI.\u001b[0m\n"
          ]
        }
      ]
    },
    {
      "cell_type": "code",
      "source": [
        "!make -j$(nproc)\n",
        "!sudo make install\n",
        "!sudo ldconfig"
      ],
      "metadata": {
        "colab": {
          "base_uri": "https://localhost:8080/"
        },
        "id": "EEWihN768Mjc",
        "outputId": "9df85fbf-8816-409f-b600-41ee5343d707"
      },
      "execution_count": null,
      "outputs": [
        {
          "output_type": "stream",
          "name": "stdout",
          "text": [
            "make: *** No targets specified and no makefile found.  Stop.\n",
            "make: *** No rule to make target 'install'.  Stop.\n",
            "/sbin/ldconfig.real: /usr/local/lib/libtbbbind_2_0.so.3 is not a symbolic link\n",
            "\n",
            "/sbin/ldconfig.real: /usr/local/lib/libtcm_debug.so.1 is not a symbolic link\n",
            "\n",
            "/sbin/ldconfig.real: /usr/local/lib/libhwloc.so.15 is not a symbolic link\n",
            "\n",
            "/sbin/ldconfig.real: /usr/local/lib/libtbbbind_2_5.so.3 is not a symbolic link\n",
            "\n",
            "/sbin/ldconfig.real: /usr/local/lib/libur_loader.so.0 is not a symbolic link\n",
            "\n",
            "/sbin/ldconfig.real: /usr/local/lib/libur_adapter_level_zero.so.0 is not a symbolic link\n",
            "\n",
            "/sbin/ldconfig.real: /usr/local/lib/libur_adapter_opencl.so.0 is not a symbolic link\n",
            "\n",
            "/sbin/ldconfig.real: /usr/local/lib/libtcm.so.1 is not a symbolic link\n",
            "\n",
            "/sbin/ldconfig.real: /usr/local/lib/libtbbmalloc.so.2 is not a symbolic link\n",
            "\n",
            "/sbin/ldconfig.real: /usr/local/lib/libtbb.so.12 is not a symbolic link\n",
            "\n",
            "/sbin/ldconfig.real: /usr/local/lib/libumf.so.0 is not a symbolic link\n",
            "\n",
            "/sbin/ldconfig.real: /usr/local/lib/libtbbmalloc_proxy.so.2 is not a symbolic link\n",
            "\n",
            "/sbin/ldconfig.real: /usr/local/lib/libtbbbind.so.3 is not a symbolic link\n",
            "\n"
          ]
        }
      ]
    },
    {
      "cell_type": "code",
      "source": [
        "import sys\n",
        "sys.path.append('/usr/local/lib/python3.10/site-packages')  # Or whatever version you're using\n",
        "\n",
        "# Verify it's in the path\n",
        "print(sys.path)"
      ],
      "metadata": {
        "colab": {
          "base_uri": "https://localhost:8080/"
        },
        "id": "KNhVzDyH8N0I",
        "outputId": "1e30c8fc-83cd-4cfb-bcda-00a2537ac281"
      },
      "execution_count": null,
      "outputs": [
        {
          "output_type": "stream",
          "name": "stdout",
          "text": [
            "['/content', '/env/python', '/usr/lib/python311.zip', '/usr/lib/python3.11', '/usr/lib/python3.11/lib-dynload', '', '/usr/local/lib/python3.11/dist-packages', '/usr/lib/python3/dist-packages', '/usr/local/lib/python3.11/dist-packages/IPython/extensions', '/root/.ipython', '/usr/local/lib/python3.10/site-packages']\n"
          ]
        }
      ]
    },
    {
      "cell_type": "code",
      "source": [
        "import cv2\n",
        "if cv2.cuda.getCudaEnabledDeviceCount() > 0:\n",
        "    print(\"CUDA-enabled OpenCV is working!\")\n",
        "    cv2.cuda.printCudaDeviceInfo(0)  # Print GPU information\n",
        "else:\n",
        "    print(\"CUDA not enabled\")"
      ],
      "metadata": {
        "colab": {
          "base_uri": "https://localhost:8080/"
        },
        "id": "aTpLlcxr8RqQ",
        "outputId": "5d6ff216-5af5-4a3e-c450-786ab15bcdfa"
      },
      "execution_count": null,
      "outputs": [
        {
          "output_type": "stream",
          "name": "stdout",
          "text": [
            "CUDA not enabled\n"
          ]
        }
      ]
    },
    {
      "cell_type": "code",
      "source": [
        "import cv2\n",
        "import os\n",
        "import subprocess\n",
        "import concurrent.futures\n",
        "\n",
        "def split_video_audio_opencv(video_path, audio_output_path, video_output_path):\n",
        "    \"\"\"\n",
        "    Splits video into video (no audio) and audio components, leveraging OpenCV (with optional CUDA)\n",
        "    and FFmpeg for potentially better GPU usage.\n",
        "    \"\"\"\n",
        "    try:\n",
        "        # --- 1. Write Video (No Audio) with OpenCV ---\n",
        "        video = cv2.VideoCapture(video_path)\n",
        "        if not video.isOpened():\n",
        "            print(f\"Error: Could not open video file: {video_path}\")\n",
        "            return\n",
        "\n",
        "        fps = video.get(cv2.CAP_PROP_FPS)\n",
        "        width = int(video.get(cv2.CAP_PROP_FRAME_WIDTH))\n",
        "        height = int(video.get(cv2.CAP_PROP_FRAME_HEIGHT))\n",
        "        frame_count = int(video.get(cv2.CAP_PROP_FRAME_COUNT))\n",
        "\n",
        "        # Define the codec and create VideoWriter object\n",
        "        fourcc = cv2.VideoWriter_fourcc(*'mp4v')\n",
        "        out = cv2.VideoWriter(video_output_path, fourcc, fps, (width, height))\n",
        "\n",
        "        # --- Check if OpenCV is built with CUDA support and try to use it ---\n",
        "        if cv2.cuda.getCudaEnabledDeviceCount() > 0:\n",
        "            print(\"CUDA-enabled OpenCV detected. Attempting to use GPU.\")\n",
        "            # Create CUDA context (if not already created)\n",
        "\n",
        "            # Upload video frames to GPU for processing\n",
        "            try:\n",
        "                # Initialize the GPU context\n",
        "                cv2.cuda.printCudaDeviceInfo(0) # Print GPU Info\n",
        "                gpu_frame = cv2.cuda_GpuMat()\n",
        "                # Create a CUDA stream\n",
        "                stream = cv2.cuda.Stream()\n",
        "\n",
        "                # Start GPU Processing\n",
        "                for i in range(frame_count):\n",
        "                    ret, frame = video.read()\n",
        "                    if not ret:\n",
        "                        break\n",
        "\n",
        "                    # Upload frame to GPU\n",
        "                    gpu_frame.upload(frame, stream=stream)\n",
        "                    # Download frame from GPU (important: wait for stream to complete)\n",
        "                    cpu_frame = gpu_frame.download(stream=stream)\n",
        "\n",
        "                    out.write(cpu_frame)\n",
        "            except Exception as e:\n",
        "                print(f\"Error during CUDA processing: {e}\")\n",
        "                print(\"Falling back to CPU processing.\")\n",
        "\n",
        "                for i in range(frame_count):\n",
        "                    ret, frame = video.read()\n",
        "                    if not ret:\n",
        "                        break\n",
        "                    out.write(frame)  # Write frames to video\n",
        "        else:\n",
        "            print(\"OpenCV is not built with CUDA support. Using CPU.\")\n",
        "            for i in range(frame_count):\n",
        "                    ret, frame = video.read()\n",
        "                    if not ret:\n",
        "                        break\n",
        "                    out.write(frame)\n",
        "\n",
        "        # --- Release resources ---\n",
        "        video.release()\n",
        "        out.release()\n",
        "\n",
        "\n",
        "        # --- 2. Extract audio using FFmpeg (more robust and likely to use GPU decoding if configured) ---\n",
        "        subprocess.run(\n",
        "            [\n",
        "                \"ffmpeg\",\n",
        "                \"-i\", video_path,\n",
        "                \"-vn\",  # Disable video\n",
        "                \"-acodec\", \"pcm_s16le\",  # Force PCM audio\n",
        "                audio_output_path\n",
        "            ],\n",
        "            check=True, capture_output=True\n",
        "        )\n",
        "\n",
        "    except subprocess.CalledProcessError as e:\n",
        "        print(f\"FFmpeg Error: {e.stderr.decode()}\")\n",
        "    except Exception as e:\n",
        "        print(f\"Error: {e}\")\n",
        "\n",
        "def process_video(input_file_path, output_folder):\n",
        "    \"\"\"Wrapper function to process a single video.\"\"\"\n",
        "    print(f\"Processing: {input_file_path}\")\n",
        "\n",
        "    file_name = os.path.basename(input_file_path)\n",
        "    file_name_without_ext, file_ext = os.path.splitext(file_name)\n",
        "    video_output_file = os.path.join(output_folder, f\"{file_name_without_ext}_video.mp4\")\n",
        "    audio_output_file = os.path.join(output_folder, f\"{file_name_without_ext}_audio.wav\")\n",
        "\n",
        "    split_video_audio_opencv(input_file_path, audio_output_file,video_output_file)\n",
        "    print(f\"Finished Processing: {input_file_path}\")\n",
        "\n",
        "def traverse_directory(root_directory, output_root_folder, max_workers=4):\n",
        "    \"\"\"\n",
        "    Traverses a directory and processes all video files in parallel using a thread pool.\n",
        "    \"\"\"\n",
        "    video_files = []\n",
        "    for foldername, subfolders, filenames in os.walk(root_directory):\n",
        "        for filename in filenames:\n",
        "            if filename.lower().endswith(('.mp4', '.avi', '.mov', '.mkv', '.webm')):\n",
        "                input_file_path = os.path.join(foldername, filename)\n",
        "                relative_path = os.path.relpath(foldername, root_directory)\n",
        "                output_folder = os.path.join(output_root_folder, relative_path)\n",
        "                os.makedirs(output_folder, exist_ok=True)\n",
        "                video_files.append((input_file_path, output_folder))  # Store path and folder\n",
        "\n",
        "    with concurrent.futures.ThreadPoolExecutor(max_workers=max_workers) as executor:\n",
        "        executor.map(lambda item: process_video(item[0], item[1]), video_files)  # Process in parallel\n",
        "\n",
        "\n",
        "\n",
        "if __name__ == '__main__':\n",
        "    input_directory = \"/content/drive/MyDrive/Datasets/dataset/1-1004\"  # Replace with your input directory\n",
        "    output_directory = \"/content/drive/MyDrive/Datasets/preprocess1\"  # Replace with your output directory\n",
        "\n",
        "    traverse_directory(input_directory, output_directory, max_workers=4)"
      ],
      "metadata": {
        "id": "dL5OcKU12J2d",
        "colab": {
          "base_uri": "https://localhost:8080/",
          "height": 1000
        },
        "outputId": "1287deb8-573a-4677-9c54-5fe4962f5c48",
        "collapsed": true
      },
      "execution_count": null,
      "outputs": [
        {
          "output_type": "stream",
          "name": "stdout",
          "text": [
            "Processing: /content/drive/MyDrive/Datasets/dataset/1-1004/A.Beautiful.Mind.2001__#00-05-52_00-08-22_label_A.mp4\n",
            "Processing: /content/drive/MyDrive/Datasets/dataset/1-1004/A.Beautiful.Mind.2001__#00-08-55_00-10-50_label_A.mp4\n",
            "Processing: /content/drive/MyDrive/Datasets/dataset/1-1004/A.Beautiful.Mind.2001__#00-23-50_00-24-31_label_A.mp4\n",
            "Processing: /content/drive/MyDrive/Datasets/dataset/1-1004/A.Beautiful.Mind.2001__#00-31-05_00-32-05_label_A.mp4\n",
            "OpenCV is not built with CUDA support. Using CPU.\n",
            "OpenCV is not built with CUDA support. Using CPU.\n",
            "OpenCV is not built with CUDA support. Using CPU.\n",
            "OpenCV is not built with CUDA support. Using CPU.\n",
            "Finished Processing: /content/drive/MyDrive/Datasets/dataset/1-1004/A.Beautiful.Mind.2001__#00-23-50_00-24-31_label_A.mp4\n",
            "Processing: /content/drive/MyDrive/Datasets/dataset/1-1004/A.Beautiful.Mind.2001__#00-20-35_00-23-06_label_A.mp4\n",
            "OpenCV is not built with CUDA support. Using CPU.\n",
            "Finished Processing: /content/drive/MyDrive/Datasets/dataset/1-1004/A.Beautiful.Mind.2001__#00-31-05_00-32-05_label_A.mp4\n",
            "Processing: /content/drive/MyDrive/Datasets/dataset/1-1004/A.Beautiful.Mind.2001__#00-32-07_00-36-45_label_A.mp4\n",
            "OpenCV is not built with CUDA support. Using CPU.\n",
            "FFmpeg Error: ffmpeg version 4.4.2-0ubuntu0.22.04.1 Copyright (c) 2000-2021 the FFmpeg developers\n",
            "  built with gcc 11 (Ubuntu 11.2.0-19ubuntu1)\n",
            "  configuration: --prefix=/usr --extra-version=0ubuntu0.22.04.1 --toolchain=hardened --libdir=/usr/lib/x86_64-linux-gnu --incdir=/usr/include/x86_64-linux-gnu --arch=amd64 --enable-gpl --disable-stripping --enable-gnutls --enable-ladspa --enable-libaom --enable-libass --enable-libbluray --enable-libbs2b --enable-libcaca --enable-libcdio --enable-libcodec2 --enable-libdav1d --enable-libflite --enable-libfontconfig --enable-libfreetype --enable-libfribidi --enable-libgme --enable-libgsm --enable-libjack --enable-libmp3lame --enable-libmysofa --enable-libopenjpeg --enable-libopenmpt --enable-libopus --enable-libpulse --enable-librabbitmq --enable-librubberband --enable-libshine --enable-libsnappy --enable-libsoxr --enable-libspeex --enable-libsrt --enable-libssh --enable-libtheora --enable-libtwolame --enable-libvidstab --enable-libvorbis --enable-libvpx --enable-libwebp --enable-libx265 --enable-libxml2 --enable-libxvid --enable-libzimg --enable-libzmq --enable-libzvbi --enable-lv2 --enable-omx --enable-openal --enable-opencl --enable-opengl --enable-sdl2 --enable-pocketsphinx --enable-librsvg --enable-libmfx --enable-libdc1394 --enable-libdrm --enable-libiec61883 --enable-chromaprint --enable-frei0r --enable-libx264 --enable-shared\n",
            "  libavutil      56. 70.100 / 56. 70.100\n",
            "  libavcodec     58.134.100 / 58.134.100\n",
            "  libavformat    58. 76.100 / 58. 76.100\n",
            "  libavdevice    58. 13.100 / 58. 13.100\n",
            "  libavfilter     7.110.100 /  7.110.100\n",
            "  libswscale      5.  9.100 /  5.  9.100\n",
            "  libswresample   3.  9.100 /  3.  9.100\n",
            "  libpostproc    55.  9.100 / 55.  9.100\n",
            "Guessed Channel Layout for Input Stream #0.1 : 5.1\n",
            "Input #0, mov,mp4,m4a,3gp,3g2,mj2, from '/content/drive/MyDrive/Datasets/dataset/1-1004/A.Beautiful.Mind.2001__#00-08-55_00-10-50_label_A.mp4':\n",
            "  Metadata:\n",
            "    major_brand     : isom\n",
            "    minor_version   : 512\n",
            "    compatible_brands: isomiso2avc1mp41\n",
            "    title           : A Beautiful Mind (2001)\n",
            "    encoder         : Lavf58.12.100\n",
            "  Duration: 02:06:24.14, start: 0.000000, bitrate: 16 kb/s\n",
            "  Chapters:\n",
            "    Chapter #0:0: start 0.000000, end 6.290000\n",
            "      Metadata:\n",
            "        title           : 2. Mathematicians\n",
            "    Chapter #0:1: start 6.290000, end 149.975000\n",
            "      Metadata:\n",
            "        title           : 3. A Challenge\n",
            "    Chapter #0:2: start 149.975000, end 605.013000\n",
            "      Metadata:\n",
            "        title           : 4. The Need to Focus\n",
            "    Chapter #0:3: start 605.013000, end 955.947000\n",
            "      Metadata:\n",
            "        title           : 5. Governing Dynamics\n",
            "    Chapter #0:4: start 955.947000, end 1271.638000\n",
            "      Metadata:\n",
            "        title           : 6. The Pentagon\n",
            "    Chapter #0:5: start 1271.638000, end 1404.062000\n",
            "      Metadata:\n",
            "        title           : 7. Teacher and Student\n",
            "    Chapter #0:6: start 1404.062000, end 1723.881000\n",
            "      Metadata:\n",
            "        title           : 8. Code Breaker\n",
            "    Chapter #0:7: start 1723.881000, end 2403.685000\n",
            "      Metadata:\n",
            "        title           : 9. Alicia\n",
            "    Chapter #0:8: start 2403.685000, end 2556.004000\n",
            "      Metadata:\n",
            "        title           : 10. The Prodigal Roommate\n",
            "    Chapter #0:9: start 2556.004000, end 2756.997000\n",
            "      Metadata:\n",
            "        title           : 11. A Wedding\n",
            "    Chapter #0:10: start 2756.997000, end 3226.883000\n",
            "      Metadata:\n",
            "        title           : 12. Trouble\n",
            "    Chapter #0:11: start 3226.883000, end 3626.866000\n",
            "      Metadata:\n",
            "        title           : 13. Dr Rosen\n",
            "    Chapter #0:12: start 3626.866000, end 4154.434000\n",
            "      Metadata:\n",
            "        title           : 14. Mental Illness\n",
            "    Chapter #0:13: start 4154.434000, end 4868.022000\n",
            "      Metadata:\n",
            "        title           : 15. Treatment\n",
            "    Chapter #0:14: start 4868.022000, end 5803.290000\n",
            "      Metadata:\n",
            "        title           : 16. Delusions\n",
            "    Chapter #0:15: start 5803.290000, end 6150.470000\n",
            "      Metadata:\n",
            "        title           : 17. Princeton\n",
            "    Chapter #0:16: start 6150.470000, end 6673.326000\n",
            "      Metadata:\n",
            "        title           : 18. Good Bye, Old Friends\n",
            "    Chapter #0:17: start 6673.326000, end 7184.837000\n",
            "      Metadata:\n",
            "        title           : 19. A Nobel Prize\n",
            "    Chapter #0:18: start 7184.837000, end 7583.861000\n",
            "      Metadata:\n",
            "        title           : 20. End Titles\n",
            "    Chapter #0:19: start 7583.861000, end 7584.136000\n",
            "      Metadata:\n",
            "        title           : \n",
            "  Stream #0:0(eng): Video: h264 (High) (avc1 / 0x31637661), yuv420p, 640x346 [SAR 346:347 DAR 640:347], 716 kb/s, 24 fps, 24 tbr, 12288 tbn, 48 tbc (default)\n",
            "    Metadata:\n",
            "      handler_name    : VideoHandler\n",
            "      vendor_id       : [0][0][0][0]\n",
            "  Stream #0:1(eng): Audio: aac (LC) (mp4a / 0x6134706D), 48000 Hz, 5.1, fltp, 394 kb/s (default)\n",
            "    Metadata:\n",
            "      handler_name    : SoundHandler\n",
            "      vendor_id       : [0][0][0][0]\n",
            "  Stream #0:2(eng): Data: bin_data (text / 0x74786574)\n",
            "    Metadata:\n",
            "      handler_name    : SubtitleHandler\n",
            "File '/content/drive/MyDrive/Datasets/preprocess1/./A.Beautiful.Mind.2001__#00-08-55_00-10-50_label_A_audio.wav' already exists. Overwrite? [y/N] Not overwriting - exiting\n",
            "\n",
            "Finished Processing: /content/drive/MyDrive/Datasets/dataset/1-1004/A.Beautiful.Mind.2001__#00-08-55_00-10-50_label_A.mp4\n",
            "Processing: /content/drive/MyDrive/Datasets/dataset/1-1004/A.Beautiful.Mind.2001__#00-45-40_00-47-30_label_A.mp4\n",
            "OpenCV is not built with CUDA support. Using CPU.\n",
            "FFmpeg Error: ffmpeg version 4.4.2-0ubuntu0.22.04.1 Copyright (c) 2000-2021 the FFmpeg developers\n",
            "  built with gcc 11 (Ubuntu 11.2.0-19ubuntu1)\n",
            "  configuration: --prefix=/usr --extra-version=0ubuntu0.22.04.1 --toolchain=hardened --libdir=/usr/lib/x86_64-linux-gnu --incdir=/usr/include/x86_64-linux-gnu --arch=amd64 --enable-gpl --disable-stripping --enable-gnutls --enable-ladspa --enable-libaom --enable-libass --enable-libbluray --enable-libbs2b --enable-libcaca --enable-libcdio --enable-libcodec2 --enable-libdav1d --enable-libflite --enable-libfontconfig --enable-libfreetype --enable-libfribidi --enable-libgme --enable-libgsm --enable-libjack --enable-libmp3lame --enable-libmysofa --enable-libopenjpeg --enable-libopenmpt --enable-libopus --enable-libpulse --enable-librabbitmq --enable-librubberband --enable-libshine --enable-libsnappy --enable-libsoxr --enable-libspeex --enable-libsrt --enable-libssh --enable-libtheora --enable-libtwolame --enable-libvidstab --enable-libvorbis --enable-libvpx --enable-libwebp --enable-libx265 --enable-libxml2 --enable-libxvid --enable-libzimg --enable-libzmq --enable-libzvbi --enable-lv2 --enable-omx --enable-openal --enable-opencl --enable-opengl --enable-sdl2 --enable-pocketsphinx --enable-librsvg --enable-libmfx --enable-libdc1394 --enable-libdrm --enable-libiec61883 --enable-chromaprint --enable-frei0r --enable-libx264 --enable-shared\n",
            "  libavutil      56. 70.100 / 56. 70.100\n",
            "  libavcodec     58.134.100 / 58.134.100\n",
            "  libavformat    58. 76.100 / 58. 76.100\n",
            "  libavdevice    58. 13.100 / 58. 13.100\n",
            "  libavfilter     7.110.100 /  7.110.100\n",
            "  libswscale      5.  9.100 /  5.  9.100\n",
            "  libswresample   3.  9.100 /  3.  9.100\n",
            "  libpostproc    55.  9.100 / 55.  9.100\n",
            "Guessed Channel Layout for Input Stream #0.1 : 5.1\n",
            "Input #0, mov,mp4,m4a,3gp,3g2,mj2, from '/content/drive/MyDrive/Datasets/dataset/1-1004/A.Beautiful.Mind.2001__#00-05-52_00-08-22_label_A.mp4':\n",
            "  Metadata:\n",
            "    major_brand     : isom\n",
            "    minor_version   : 512\n",
            "    compatible_brands: isomiso2avc1mp41\n",
            "    title           : A Beautiful Mind (2001)\n",
            "    encoder         : Lavf58.12.100\n",
            "  Duration: 02:09:27.14, start: 0.000000, bitrate: 14 kb/s\n",
            "  Chapters:\n",
            "    Chapter #0:0: start 0.000000, end 189.290000\n",
            "      Metadata:\n",
            "        title           : 2. Mathematicians\n",
            "    Chapter #0:1: start 189.290000, end 332.975000\n",
            "      Metadata:\n",
            "        title           : 3. A Challenge\n",
            "    Chapter #0:2: start 332.975000, end 788.013000\n",
            "      Metadata:\n",
            "        title           : 4. The Need to Focus\n",
            "    Chapter #0:3: start 788.013000, end 1138.947000\n",
            "      Metadata:\n",
            "        title           : 5. Governing Dynamics\n",
            "    Chapter #0:4: start 1138.947000, end 1454.638000\n",
            "      Metadata:\n",
            "        title           : 6. The Pentagon\n",
            "    Chapter #0:5: start 1454.638000, end 1587.062000\n",
            "      Metadata:\n",
            "        title           : 7. Teacher and Student\n",
            "    Chapter #0:6: start 1587.062000, end 1906.881000\n",
            "      Metadata:\n",
            "        title           : 8. Code Breaker\n",
            "    Chapter #0:7: start 1906.881000, end 2586.685000\n",
            "      Metadata:\n",
            "        title           : 9. Alicia\n",
            "    Chapter #0:8: start 2586.685000, end 2739.004000\n",
            "      Metadata:\n",
            "        title           : 10. The Prodigal Roommate\n",
            "    Chapter #0:9: start 2739.004000, end 2939.997000\n",
            "      Metadata:\n",
            "        title           : 11. A Wedding\n",
            "    Chapter #0:10: start 2939.997000, end 3409.883000\n",
            "      Metadata:\n",
            "        title           : 12. Trouble\n",
            "    Chapter #0:11: start 3409.883000, end 3809.866000\n",
            "      Metadata:\n",
            "        title           : 13. Dr Rosen\n",
            "    Chapter #0:12: start 3809.866000, end 4337.434000\n",
            "      Metadata:\n",
            "        title           : 14. Mental Illness\n",
            "    Chapter #0:13: start 4337.434000, end 5051.022000\n",
            "      Metadata:\n",
            "        title           : 15. Treatment\n",
            "    Chapter #0:14: start 5051.022000, end 5986.290000\n",
            "      Metadata:\n",
            "        title           : 16. Delusions\n",
            "    Chapter #0:15: start 5986.290000, end 6333.470000\n",
            "      Metadata:\n",
            "        title           : 17. Princeton\n",
            "    Chapter #0:16: start 6333.470000, end 6856.326000\n",
            "      Metadata:\n",
            "        title           : 18. Good Bye, Old Friends\n",
            "    Chapter #0:17: start 6856.326000, end 7367.837000\n",
            "      Metadata:\n",
            "        title           : 19. A Nobel Prize\n",
            "    Chapter #0:18: start 7367.837000, end 7766.861000\n",
            "      Metadata:\n",
            "        title           : 20. End Titles\n",
            "    Chapter #0:19: start 7766.861000, end 7767.136000\n",
            "      Metadata:\n",
            "        title           : \n",
            "  Stream #0:0(eng): Video: h264 (High) (avc1 / 0x31637661), yuv420p, 640x346 [SAR 346:347 DAR 640:347], 350 kb/s, 24 fps, 24 tbr, 12288 tbn, 48 tbc (default)\n",
            "    Metadata:\n",
            "      handler_name    : VideoHandler\n",
            "      vendor_id       : [0][0][0][0]\n",
            "  Stream #0:1(eng): Audio: aac (LC) (mp4a / 0x6134706D), 48000 Hz, 5.1, fltp, 394 kb/s (default)\n",
            "    Metadata:\n",
            "      handler_name    : SoundHandler\n",
            "      vendor_id       : [0][0][0][0]\n",
            "  Stream #0:2(eng): Data: bin_data (text / 0x74786574)\n",
            "    Metadata:\n",
            "      handler_name    : SubtitleHandler\n",
            "File '/content/drive/MyDrive/Datasets/preprocess1/./A.Beautiful.Mind.2001__#00-05-52_00-08-22_label_A_audio.wav' already exists. Overwrite? [y/N] Not overwriting - exiting\n",
            "\n",
            "Finished Processing: /content/drive/MyDrive/Datasets/dataset/1-1004/A.Beautiful.Mind.2001__#00-05-52_00-08-22_label_A.mp4\n",
            "Processing: /content/drive/MyDrive/Datasets/dataset/1-1004/A.Beautiful.Mind.2001__#00-57-20_00-58-17_label_A.mp4\n",
            "OpenCV is not built with CUDA support. Using CPU.\n",
            "Finished Processing: /content/drive/MyDrive/Datasets/dataset/1-1004/A.Beautiful.Mind.2001__#00-57-20_00-58-17_label_A.mp4\n",
            "Processing: /content/drive/MyDrive/Datasets/dataset/1-1004/A.Beautiful.Mind.2001__#00-37-40_00-40-31_label_A.mp4\n",
            "OpenCV is not built with CUDA support. Using CPU.\n",
            "Finished Processing: /content/drive/MyDrive/Datasets/dataset/1-1004/A.Beautiful.Mind.2001__#00-20-35_00-23-06_label_A.mp4\n",
            "Processing: /content/drive/MyDrive/Datasets/dataset/1-1004/A.Beautiful.Mind.2001__#00-42-52_00-45-31_label_A.mp4\n",
            "OpenCV is not built with CUDA support. Using CPU.\n",
            "Finished Processing: /content/drive/MyDrive/Datasets/dataset/1-1004/A.Beautiful.Mind.2001__#00-45-40_00-47-30_label_A.mp4\n",
            "Processing: /content/drive/MyDrive/Datasets/dataset/1-1004/A.Beautiful.Mind.2001__#01-26-10_01-28-00_label_A.mp4\n"
          ]
        },
        {
          "output_type": "error",
          "ename": "KeyboardInterrupt",
          "evalue": "",
          "traceback": [
            "\u001b[0;31m---------------------------------------------------------------------------\u001b[0m",
            "\u001b[0;31mKeyboardInterrupt\u001b[0m                         Traceback (most recent call last)",
            "\u001b[0;32m<ipython-input-1-6ae9698ec345>\u001b[0m in \u001b[0;36m<cell line: 0>\u001b[0;34m()\u001b[0m\n\u001b[1;32m    124\u001b[0m     \u001b[0moutput_directory\u001b[0m \u001b[0;34m=\u001b[0m \u001b[0;34m\"/content/drive/MyDrive/Datasets/preprocess1\"\u001b[0m  \u001b[0;31m# Replace with your output directory\u001b[0m\u001b[0;34m\u001b[0m\u001b[0;34m\u001b[0m\u001b[0m\n\u001b[1;32m    125\u001b[0m \u001b[0;34m\u001b[0m\u001b[0m\n\u001b[0;32m--> 126\u001b[0;31m     \u001b[0mtraverse_directory\u001b[0m\u001b[0;34m(\u001b[0m\u001b[0minput_directory\u001b[0m\u001b[0;34m,\u001b[0m \u001b[0moutput_directory\u001b[0m\u001b[0;34m,\u001b[0m \u001b[0mmax_workers\u001b[0m\u001b[0;34m=\u001b[0m\u001b[0;36m4\u001b[0m\u001b[0;34m)\u001b[0m\u001b[0;34m\u001b[0m\u001b[0;34m\u001b[0m\u001b[0m\n\u001b[0m",
            "\u001b[0;32m<ipython-input-1-6ae9698ec345>\u001b[0m in \u001b[0;36mtraverse_directory\u001b[0;34m(root_directory, output_root_folder, max_workers)\u001b[0m\n\u001b[1;32m    115\u001b[0m                 \u001b[0mvideo_files\u001b[0m\u001b[0;34m.\u001b[0m\u001b[0mappend\u001b[0m\u001b[0;34m(\u001b[0m\u001b[0;34m(\u001b[0m\u001b[0minput_file_path\u001b[0m\u001b[0;34m,\u001b[0m \u001b[0moutput_folder\u001b[0m\u001b[0;34m)\u001b[0m\u001b[0;34m)\u001b[0m  \u001b[0;31m# Store path and folder\u001b[0m\u001b[0;34m\u001b[0m\u001b[0;34m\u001b[0m\u001b[0m\n\u001b[1;32m    116\u001b[0m \u001b[0;34m\u001b[0m\u001b[0m\n\u001b[0;32m--> 117\u001b[0;31m     \u001b[0;32mwith\u001b[0m \u001b[0mconcurrent\u001b[0m\u001b[0;34m.\u001b[0m\u001b[0mfutures\u001b[0m\u001b[0;34m.\u001b[0m\u001b[0mThreadPoolExecutor\u001b[0m\u001b[0;34m(\u001b[0m\u001b[0mmax_workers\u001b[0m\u001b[0;34m=\u001b[0m\u001b[0mmax_workers\u001b[0m\u001b[0;34m)\u001b[0m \u001b[0;32mas\u001b[0m \u001b[0mexecutor\u001b[0m\u001b[0;34m:\u001b[0m\u001b[0;34m\u001b[0m\u001b[0;34m\u001b[0m\u001b[0m\n\u001b[0m\u001b[1;32m    118\u001b[0m         \u001b[0mexecutor\u001b[0m\u001b[0;34m.\u001b[0m\u001b[0mmap\u001b[0m\u001b[0;34m(\u001b[0m\u001b[0;32mlambda\u001b[0m \u001b[0mitem\u001b[0m\u001b[0;34m:\u001b[0m \u001b[0mprocess_video\u001b[0m\u001b[0;34m(\u001b[0m\u001b[0mitem\u001b[0m\u001b[0;34m[\u001b[0m\u001b[0;36m0\u001b[0m\u001b[0;34m]\u001b[0m\u001b[0;34m,\u001b[0m \u001b[0mitem\u001b[0m\u001b[0;34m[\u001b[0m\u001b[0;36m1\u001b[0m\u001b[0;34m]\u001b[0m\u001b[0;34m)\u001b[0m\u001b[0;34m,\u001b[0m \u001b[0mvideo_files\u001b[0m\u001b[0;34m)\u001b[0m  \u001b[0;31m# Process in parallel\u001b[0m\u001b[0;34m\u001b[0m\u001b[0;34m\u001b[0m\u001b[0m\n\u001b[1;32m    119\u001b[0m \u001b[0;34m\u001b[0m\u001b[0m\n",
            "\u001b[0;32m/usr/lib/python3.11/concurrent/futures/_base.py\u001b[0m in \u001b[0;36m__exit__\u001b[0;34m(self, exc_type, exc_val, exc_tb)\u001b[0m\n\u001b[1;32m    645\u001b[0m \u001b[0;34m\u001b[0m\u001b[0m\n\u001b[1;32m    646\u001b[0m     \u001b[0;32mdef\u001b[0m \u001b[0m__exit__\u001b[0m\u001b[0;34m(\u001b[0m\u001b[0mself\u001b[0m\u001b[0;34m,\u001b[0m \u001b[0mexc_type\u001b[0m\u001b[0;34m,\u001b[0m \u001b[0mexc_val\u001b[0m\u001b[0;34m,\u001b[0m \u001b[0mexc_tb\u001b[0m\u001b[0;34m)\u001b[0m\u001b[0;34m:\u001b[0m\u001b[0;34m\u001b[0m\u001b[0;34m\u001b[0m\u001b[0m\n\u001b[0;32m--> 647\u001b[0;31m         \u001b[0mself\u001b[0m\u001b[0;34m.\u001b[0m\u001b[0mshutdown\u001b[0m\u001b[0;34m(\u001b[0m\u001b[0mwait\u001b[0m\u001b[0;34m=\u001b[0m\u001b[0;32mTrue\u001b[0m\u001b[0;34m)\u001b[0m\u001b[0;34m\u001b[0m\u001b[0;34m\u001b[0m\u001b[0m\n\u001b[0m\u001b[1;32m    648\u001b[0m         \u001b[0;32mreturn\u001b[0m \u001b[0;32mFalse\u001b[0m\u001b[0;34m\u001b[0m\u001b[0;34m\u001b[0m\u001b[0m\n\u001b[1;32m    649\u001b[0m \u001b[0;34m\u001b[0m\u001b[0m\n",
            "\u001b[0;32m/usr/lib/python3.11/concurrent/futures/thread.py\u001b[0m in \u001b[0;36mshutdown\u001b[0;34m(self, wait, cancel_futures)\u001b[0m\n\u001b[1;32m    233\u001b[0m         \u001b[0;32mif\u001b[0m \u001b[0mwait\u001b[0m\u001b[0;34m:\u001b[0m\u001b[0;34m\u001b[0m\u001b[0;34m\u001b[0m\u001b[0m\n\u001b[1;32m    234\u001b[0m             \u001b[0;32mfor\u001b[0m \u001b[0mt\u001b[0m \u001b[0;32min\u001b[0m \u001b[0mself\u001b[0m\u001b[0;34m.\u001b[0m\u001b[0m_threads\u001b[0m\u001b[0;34m:\u001b[0m\u001b[0;34m\u001b[0m\u001b[0;34m\u001b[0m\u001b[0m\n\u001b[0;32m--> 235\u001b[0;31m                 \u001b[0mt\u001b[0m\u001b[0;34m.\u001b[0m\u001b[0mjoin\u001b[0m\u001b[0;34m(\u001b[0m\u001b[0;34m)\u001b[0m\u001b[0;34m\u001b[0m\u001b[0;34m\u001b[0m\u001b[0m\n\u001b[0m\u001b[1;32m    236\u001b[0m     \u001b[0mshutdown\u001b[0m\u001b[0;34m.\u001b[0m\u001b[0m__doc__\u001b[0m \u001b[0;34m=\u001b[0m \u001b[0m_base\u001b[0m\u001b[0;34m.\u001b[0m\u001b[0mExecutor\u001b[0m\u001b[0;34m.\u001b[0m\u001b[0mshutdown\u001b[0m\u001b[0;34m.\u001b[0m\u001b[0m__doc__\u001b[0m\u001b[0;34m\u001b[0m\u001b[0;34m\u001b[0m\u001b[0m\n",
            "\u001b[0;32m/usr/lib/python3.11/threading.py\u001b[0m in \u001b[0;36mjoin\u001b[0;34m(self, timeout)\u001b[0m\n\u001b[1;32m   1117\u001b[0m \u001b[0;34m\u001b[0m\u001b[0m\n\u001b[1;32m   1118\u001b[0m         \u001b[0;32mif\u001b[0m \u001b[0mtimeout\u001b[0m \u001b[0;32mis\u001b[0m \u001b[0;32mNone\u001b[0m\u001b[0;34m:\u001b[0m\u001b[0;34m\u001b[0m\u001b[0;34m\u001b[0m\u001b[0m\n\u001b[0;32m-> 1119\u001b[0;31m             \u001b[0mself\u001b[0m\u001b[0;34m.\u001b[0m\u001b[0m_wait_for_tstate_lock\u001b[0m\u001b[0;34m(\u001b[0m\u001b[0;34m)\u001b[0m\u001b[0;34m\u001b[0m\u001b[0;34m\u001b[0m\u001b[0m\n\u001b[0m\u001b[1;32m   1120\u001b[0m         \u001b[0;32melse\u001b[0m\u001b[0;34m:\u001b[0m\u001b[0;34m\u001b[0m\u001b[0;34m\u001b[0m\u001b[0m\n\u001b[1;32m   1121\u001b[0m             \u001b[0;31m# the behavior of a negative timeout isn't documented, but\u001b[0m\u001b[0;34m\u001b[0m\u001b[0;34m\u001b[0m\u001b[0m\n",
            "\u001b[0;32m/usr/lib/python3.11/threading.py\u001b[0m in \u001b[0;36m_wait_for_tstate_lock\u001b[0;34m(self, block, timeout)\u001b[0m\n\u001b[1;32m   1137\u001b[0m \u001b[0;34m\u001b[0m\u001b[0m\n\u001b[1;32m   1138\u001b[0m         \u001b[0;32mtry\u001b[0m\u001b[0;34m:\u001b[0m\u001b[0;34m\u001b[0m\u001b[0;34m\u001b[0m\u001b[0m\n\u001b[0;32m-> 1139\u001b[0;31m             \u001b[0;32mif\u001b[0m \u001b[0mlock\u001b[0m\u001b[0;34m.\u001b[0m\u001b[0macquire\u001b[0m\u001b[0;34m(\u001b[0m\u001b[0mblock\u001b[0m\u001b[0;34m,\u001b[0m \u001b[0mtimeout\u001b[0m\u001b[0;34m)\u001b[0m\u001b[0;34m:\u001b[0m\u001b[0;34m\u001b[0m\u001b[0;34m\u001b[0m\u001b[0m\n\u001b[0m\u001b[1;32m   1140\u001b[0m                 \u001b[0mlock\u001b[0m\u001b[0;34m.\u001b[0m\u001b[0mrelease\u001b[0m\u001b[0;34m(\u001b[0m\u001b[0;34m)\u001b[0m\u001b[0;34m\u001b[0m\u001b[0;34m\u001b[0m\u001b[0m\n\u001b[1;32m   1141\u001b[0m                 \u001b[0mself\u001b[0m\u001b[0;34m.\u001b[0m\u001b[0m_stop\u001b[0m\u001b[0;34m(\u001b[0m\u001b[0;34m)\u001b[0m\u001b[0;34m\u001b[0m\u001b[0;34m\u001b[0m\u001b[0m\n",
            "\u001b[0;31mKeyboardInterrupt\u001b[0m: "
          ]
        }
      ]
    },
    {
      "cell_type": "code",
      "source": [
        "import torch\n",
        "\n",
        "def test_cuda():\n",
        "  \"\"\"Tests if CUDA is available and prints device information.\"\"\"\n",
        "\n",
        "  try:\n",
        "    if torch.cuda.is_available():\n",
        "      device = torch.device('cuda')\n",
        "      print(f\"CUDA is available! Using device: {device}\")\n",
        "\n",
        "      # Get device name and compute capability (more detailed)\n",
        "      print(f\"Device Name: {torch.cuda.get_device_name(0)}\")\n",
        "      print(f\"Compute Capability: {torch.cuda.get_device_properties(0).major}.{torch.cuda.get_device_properties(0).minor}\")\n",
        "\n",
        "      # Optional: Allocate a small tensor to ensure CUDA is working properly\n",
        "      x = torch.randn(1, 10).to(device)\n",
        "      print(f\"Successfully allocated a tensor to the CUDA device: {x.device}\")\n",
        "\n",
        "    else:\n",
        "      print(\"CUDA is not available. Using CPU.\")\n",
        "  except Exception as e:\n",
        "    print(f\"Error during CUDA test: {e}\")\n",
        "    print(\"Check your CUDA installation and drivers.\")\n",
        "\n",
        "if __name__ == '__main__':\n",
        "  test_cuda()"
      ],
      "metadata": {
        "colab": {
          "base_uri": "https://localhost:8080/"
        },
        "id": "YO5oaX-j30zd",
        "outputId": "8ed0176e-303d-46bc-ff50-cc4ae7407e1d"
      },
      "execution_count": null,
      "outputs": [
        {
          "output_type": "stream",
          "name": "stdout",
          "text": [
            "CUDA is available! Using device: cuda\n",
            "Device Name: Tesla T4\n",
            "Compute Capability: 7.5\n",
            "Successfully allocated a tensor to the CUDA device: cuda:0\n"
          ]
        }
      ]
    }
  ]
}